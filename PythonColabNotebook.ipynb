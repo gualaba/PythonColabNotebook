{
  "nbformat": 4,
  "nbformat_minor": 0,
  "metadata": {
    "colab": {
      "name": "PythonColabNotebook.ipynb",
      "provenance": [],
      "collapsed_sections": [],
      "authorship_tag": "ABX9TyN5/hakhJo2oMcOtsmb3do4",
      "include_colab_link": true
    },
    "kernelspec": {
      "name": "python3",
      "display_name": "Python 3"
    },
    "language_info": {
      "name": "python"
    }
  },
  "cells": [
    {
      "cell_type": "markdown",
      "metadata": {
        "id": "view-in-github",
        "colab_type": "text"
      },
      "source": [
        "<a href=\"https://colab.research.google.com/github/gualaba/PythonColabNotebook/blob/main/PythonColabNotebook.ipynb\" target=\"_parent\"><img src=\"https://colab.research.google.com/assets/colab-badge.svg\" alt=\"Open In Colab\"/></a>"
      ]
    },
    {
      "cell_type": "markdown",
      "source": [
        "**Identificadores y variables**"
      ],
      "metadata": {
        "id": "3ueqge_uvEsx"
      }
    },
    {
      "cell_type": "code",
      "source": [
        "print(\"Hola Mundo\")"
      ],
      "metadata": {
        "colab": {
          "base_uri": "https://localhost:8080/"
        },
        "id": "OD6LQi3RvU0Z",
        "outputId": "081b72e8-7207-45da-f262-f9ef8741a09e"
      },
      "execution_count": null,
      "outputs": [
        {
          "output_type": "stream",
          "name": "stdout",
          "text": [
            "Hola Mundo\n"
          ]
        }
      ]
    },
    {
      "cell_type": "code",
      "source": [
        "miNombre = \"Luis Vejarano\" #Defino la variable\n",
        "print(miNombre) #Se muestra la variable"
      ],
      "metadata": {
        "colab": {
          "base_uri": "https://localhost:8080/"
        },
        "id": "AncMxBWyxylZ",
        "outputId": "c474405a-685c-4b8e-9246-1a4b3fc35fc6"
      },
      "execution_count": null,
      "outputs": [
        {
          "output_type": "stream",
          "name": "stdout",
          "text": [
            "Luis Vejarano\n"
          ]
        }
      ]
    },
    {
      "cell_type": "markdown",
      "source": [
        "**Tipos de datos primitivos**"
      ],
      "metadata": {
        "id": "juAi0_rC4vKQ"
      }
    },
    {
      "cell_type": "markdown",
      "source": [
        "\n",
        "*   Numeros enteros: positvos o negativos, sin decimales.\n",
        "\n"
      ],
      "metadata": {
        "id": "tY0al7tu_drh"
      }
    },
    {
      "cell_type": "code",
      "source": [
        "#Entradas\n",
        "numero1:int = 57\n",
        "numero2:int = 20\n",
        "#Proceso\n",
        "suma = numero1 + numero2\n",
        "#Salida\n",
        "print(suma)"
      ],
      "metadata": {
        "colab": {
          "base_uri": "https://localhost:8080/"
        },
        "id": "Z5vxk3CU41ur",
        "outputId": "8c4c806c-56bb-4dc4-a03c-8fbb7bc1e862"
      },
      "execution_count": null,
      "outputs": [
        {
          "output_type": "stream",
          "name": "stdout",
          "text": [
            "77\n"
          ]
        }
      ]
    },
    {
      "cell_type": "code",
      "source": [
        "numero3 = 37\n",
        "numero4 = 50\n",
        "suma = numero3 + numero4\n",
        "print(suma)"
      ],
      "metadata": {
        "colab": {
          "base_uri": "https://localhost:8080/"
        },
        "id": "DGL-XUng74qW",
        "outputId": "0f23bc56-54a6-4420-ba8f-2fdace715b62"
      },
      "execution_count": null,
      "outputs": [
        {
          "output_type": "stream",
          "name": "stdout",
          "text": [
            "87\n"
          ]
        }
      ]
    },
    {
      "cell_type": "markdown",
      "source": [
        "\n",
        "*   Numeros reales: positvos o negativos, que contiene uno o mas decimales.\n",
        "\n"
      ],
      "metadata": {
        "id": "dH-OQfMwAkmI"
      }
    },
    {
      "cell_type": "code",
      "source": [
        "nombre = \"Juan Perez\"\n",
        "peso:float = 55.2\n",
        "print(nombre,\"tiene un peso de:\",peso,\"Kg\") "
      ],
      "metadata": {
        "colab": {
          "base_uri": "https://localhost:8080/"
        },
        "id": "u_F9sg4eAljC",
        "outputId": "3bacc2fe-3d75-48c4-cfe1-f209e935cd9e"
      },
      "execution_count": null,
      "outputs": [
        {
          "output_type": "stream",
          "name": "stdout",
          "text": [
            "Juan Perez tiene un peso de: 55.2 Kg\n"
          ]
        }
      ]
    },
    {
      "cell_type": "markdown",
      "source": [
        "\n",
        "\n",
        "*   Booleanos: toman dos valores Verdadero o Falso\n",
        "\n"
      ],
      "metadata": {
        "id": "7-J3YYFc7v0V"
      }
    },
    {
      "cell_type": "code",
      "source": [
        "esColombiano:bool = True\n",
        "esArgentino:bool = False\n",
        "print(esColombiano)\n",
        "print(esArgentino)"
      ],
      "metadata": {
        "colab": {
          "base_uri": "https://localhost:8080/"
        },
        "id": "rIXaW_J98GfG",
        "outputId": "43367048-bf82-4127-b569-4f7f3ddad02e"
      },
      "execution_count": null,
      "outputs": [
        {
          "output_type": "stream",
          "name": "stdout",
          "text": [
            "True\n",
            "False\n"
          ]
        }
      ]
    },
    {
      "cell_type": "markdown",
      "source": [
        "\n",
        "*   Caracter y Cadena de caracteres\n",
        "\n"
      ],
      "metadata": {
        "id": "jCOEzchE9c1k"
      }
    },
    {
      "cell_type": "code",
      "source": [
        "genero = \"@\"\n",
        "mensaje = \"Cadena con una comilla simple ', una comilla doble \\\" 28368463 #$#%$%&\"\n",
        "print(mensaje)\n",
        "print(genero)"
      ],
      "metadata": {
        "colab": {
          "base_uri": "https://localhost:8080/"
        },
        "id": "ntHN3ZeM9l8h",
        "outputId": "581a90c0-342e-4585-aba9-dc7b838e1f86"
      },
      "execution_count": null,
      "outputs": [
        {
          "output_type": "stream",
          "name": "stdout",
          "text": [
            "Cadena con una comilla simple ', una comilla doble \" 28368463 #$#%$%&\n",
            "@\n"
          ]
        }
      ]
    },
    {
      "cell_type": "markdown",
      "source": [
        "**Operadores**"
      ],
      "metadata": {
        "id": "6FT5PEvuAl2p"
      }
    },
    {
      "cell_type": "markdown",
      "source": [
        "\n",
        "*   Aritméticos\n",
        "\n"
      ],
      "metadata": {
        "id": "vXOuSKGDAqW2"
      }
    },
    {
      "cell_type": "code",
      "source": [
        "num1 = 10\n",
        "num2 = 8\n",
        "suma = num1 + num2\n",
        "resta = num1 - num2\n",
        "multiplicacion = num1 * num2\n",
        "division = num1 / num2\n",
        "modulo = num1 % num2\n",
        "print(suma)\n",
        "print(resta)\n",
        "print(multiplicacion)\n",
        "print(division)\n",
        "print(modulo)"
      ],
      "metadata": {
        "colab": {
          "base_uri": "https://localhost:8080/"
        },
        "id": "dmkhdT6RA1Af",
        "outputId": "6039bcfa-9a47-45fb-d860-ea366d678e11"
      },
      "execution_count": null,
      "outputs": [
        {
          "output_type": "stream",
          "name": "stdout",
          "text": [
            "18\n",
            "2\n",
            "80\n",
            "1.25\n",
            "2\n"
          ]
        }
      ]
    },
    {
      "cell_type": "markdown",
      "source": [
        "\n",
        "*   Asignación\n",
        "\n",
        "\n"
      ],
      "metadata": {
        "id": "hxF3_FktGeEg"
      }
    },
    {
      "cell_type": "code",
      "source": [
        "x = 7\n",
        "y = 8\n",
        "z = 2"
      ],
      "metadata": {
        "id": "sfVhLidTGmSb"
      },
      "execution_count": null,
      "outputs": []
    },
    {
      "cell_type": "markdown",
      "source": [
        "\n",
        "*   Relacionales\n",
        "\n"
      ],
      "metadata": {
        "id": "vGjG34oqwtFJ"
      }
    },
    {
      "cell_type": "code",
      "source": [
        ""
      ],
      "metadata": {
        "id": "kKCkpns1btp_"
      },
      "execution_count": null,
      "outputs": []
    },
    {
      "cell_type": "markdown",
      "source": [
        "\n",
        "*   **Condicionales**\n",
        "\n"
      ],
      "metadata": {
        "id": "6vaqI5HEbu2K"
      }
    },
    {
      "cell_type": "code",
      "source": [
        "#Simple\n",
        "a = 33\n",
        "b = 200\n",
        "if b > a:\n",
        "  print(\"b es mayor que a\")"
      ],
      "metadata": {
        "colab": {
          "base_uri": "https://localhost:8080/"
        },
        "id": "EHRH40Zvk0m8",
        "outputId": "ae116d73-d4bd-423c-fc4f-895149f8b73e"
      },
      "execution_count": null,
      "outputs": [
        {
          "output_type": "stream",
          "name": "stdout",
          "text": [
            "b es mayor que a\n"
          ]
        }
      ]
    },
    {
      "cell_type": "code",
      "source": [
        "#Doble\n",
        "m = int(input(\"Ingrese el numero: \"))\n",
        "n = int(input(\"Ingrese el numero: \"))\n",
        "if m > n:\n",
        "  print(\"m es mayor que n\")\n",
        "else:\n",
        "  print(\"m no es mayor que n\")"
      ],
      "metadata": {
        "colab": {
          "base_uri": "https://localhost:8080/"
        },
        "id": "k0g-ua9cnBUV",
        "outputId": "7a806eca-6a3a-4689-a435-84ce99833f5b"
      },
      "execution_count": null,
      "outputs": [
        {
          "output_type": "stream",
          "name": "stdout",
          "text": [
            "Ingrese el numero: 8\n",
            "Ingrese el numero: 2\n",
            "m es mayor que n\n"
          ]
        }
      ]
    },
    {
      "cell_type": "code",
      "source": [
        "#Multiples\n",
        "p = 300\n",
        "q = 300\n",
        "if p > q:\n",
        "  print(\"p es mayor que q\")\n",
        "elif p == q:\n",
        "  print(\"p y q son iguales\")\n",
        "else:\n",
        "  print(\"p es menor que q\")\n"
      ],
      "metadata": {
        "colab": {
          "base_uri": "https://localhost:8080/"
        },
        "id": "jh-uPIXTqMN3",
        "outputId": "3758e161-059b-477d-cb8c-4ce7247734a1"
      },
      "execution_count": null,
      "outputs": [
        {
          "output_type": "stream",
          "name": "stdout",
          "text": [
            "p y q son iguales\n"
          ]
        }
      ]
    },
    {
      "cell_type": "code",
      "source": [
        "#Enlazado\n",
        "dia = int(input(\"Ingrese el dia (1 -7): \"))\n",
        "if dia == 1:\n",
        "  print(\"Lunes\")\n",
        "elif dia == 2:\n",
        "  print(\"Martes\")\n",
        "elif dia == 3:\n",
        "  print(\"Miercoles\")\n",
        "elif dia == 4:\n",
        "  print(\"Jueves\")\n",
        "elif dia == 5:\n",
        "  print(\"Viernes\")\n",
        "elif dia == 6:\n",
        "  print(\"Sabado\")\n",
        "elif dia == 7:\n",
        "  print(\"Domingo\")\n",
        "else:\n",
        "  print(\"Dia no valido\")\n"
      ],
      "metadata": {
        "colab": {
          "base_uri": "https://localhost:8080/"
        },
        "id": "DnwNd67AtVcN",
        "outputId": "c360df3d-916d-4e10-a03a-0874475cba18"
      },
      "execution_count": null,
      "outputs": [
        {
          "output_type": "stream",
          "name": "stdout",
          "text": [
            "Ingrese el dia (1 -7): 4\n",
            "Jueves\n"
          ]
        }
      ]
    },
    {
      "cell_type": "markdown",
      "source": [
        "\n",
        "*  ** Funciones**: Es un bloque de codigo que ***solo*** se ejecuta cuando se le llama, puede pasar datos, conocidos como parámetros y retorna datos como resultado.\n",
        "\n"
      ],
      "metadata": {
        "id": "Cn2mXFUKxh6y"
      }
    },
    {
      "cell_type": "code",
      "source": [
        "#Definir una funcion\n",
        "def miFuncion():\n",
        "  print(\"Hola desde el cuerpo de la funcion\")\n",
        "  p = 300 #Local\n",
        "  q = 300 #Local\n",
        "  if p > q:\n",
        "    print(\"p es mayor que q\")\n",
        "  elif p == q:\n",
        "    print(\"p y q son iguales\")\n",
        "  else:\n",
        "    print(\"p es menor que q\")\n",
        "\n",
        "#Invocar la funcion\n",
        "miFuncion()\n"
      ],
      "metadata": {
        "colab": {
          "base_uri": "https://localhost:8080/"
        },
        "id": "OksB9BQczLNO",
        "outputId": "09cf8639-3a6c-4361-f330-e618f3e16943"
      },
      "execution_count": null,
      "outputs": [
        {
          "output_type": "stream",
          "name": "stdout",
          "text": [
            "Hola desde el cuerpo de la funcion\n",
            "p y q son iguales\n"
          ]
        }
      ]
    },
    {
      "cell_type": "markdown",
      "source": [
        "Argumento: Es el dato que se pasa a la funcion"
      ],
      "metadata": {
        "id": "OMr4-9Qb2mIr"
      }
    },
    {
      "cell_type": "code",
      "source": [
        "def mostrarNombre(nombre):\n",
        "  print(\"Su nombre es: \"+nombre)\n",
        "\n",
        "def mostrarNombreCompleto(nom,ape):\n",
        "  print(\"Su nombre es: \",nom,ape)\n",
        "\n",
        "#Invocar la funcion\n",
        "mostrarNombre(\"Julian\")\n",
        "\n",
        "#Invocar la funcion\n",
        "mostrarNombreCompleto(\"Pedro\",\"Muñoz\")"
      ],
      "metadata": {
        "colab": {
          "base_uri": "https://localhost:8080/"
        },
        "id": "Mmtlq5JK2vpL",
        "outputId": "9dd972a8-6bfd-445a-cb83-1b46617e20d0"
      },
      "execution_count": null,
      "outputs": [
        {
          "output_type": "stream",
          "name": "stdout",
          "text": [
            "Su nombre es: Julian\n",
            "Su nombre es:  Pedro Muñoz\n"
          ]
        }
      ]
    },
    {
      "cell_type": "markdown",
      "source": [
        "Ejemplo con funciones: Calcular el **area** de un triangulo  ![Tg5.png](data:image/png;base64,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)"
      ],
      "metadata": {
        "id": "uOSgMbSOvq8s"
      }
    },
    {
      "cell_type": "code",
      "source": [
        "#Entradas\n",
        "base = int(input(\"Ingrese la base: \"))\n",
        "altura = int(input(\"Ingrese la altura: \"))\n",
        "\n",
        "#Definir la funcion\n",
        "#Proceso\n",
        "def calcularAreaTriangulo(base,altura):\n",
        "  area = (base*altura)/2\n",
        "  return area\n",
        "\n",
        "#Salida\n",
        "#Invocar la funcion\n",
        "resultado = calcularAreaTriangulo(base,altura)\n",
        "print(\"El area del triangulo es\",resultado)\n",
        "\n"
      ],
      "metadata": {
        "colab": {
          "base_uri": "https://localhost:8080/"
        },
        "id": "SHY1u021v0Zi",
        "outputId": "69a6abed-3606-4cf7-eef0-7d52f9e0b2c0"
      },
      "execution_count": null,
      "outputs": [
        {
          "name": "stdout",
          "output_type": "stream",
          "text": [
            "Ingrese la base: 8\n",
            "Ingrese la altura: 4\n"
          ]
        }
      ]
    },
    {
      "cell_type": "markdown",
      "source": [
        "**Ciclo while**"
      ],
      "metadata": {
        "id": "A3NF3x978p2Q"
      }
    },
    {
      "cell_type": "code",
      "source": [
        "#Ejemplo 1\n",
        "\n",
        "i = 0 #Inicio\n",
        "while(i <= 6): #Condicion\n",
        "  print(i) #Bloque\n",
        "  i += 2 #Actualizacion\n",
        "  #i = i + 1\n",
        "print(\"Siguiente codigo\")\n",
        "def mostrarNombreCompleto(nom,ape):\n",
        "  print(\"Su nombre es: \",nom,ape)\n",
        "\n",
        "#Invocar la funcion\n",
        "mostrarNombreCompleto(\"Pedro\",\"Muñoz\")"
      ],
      "metadata": {
        "id": "Lf-tiq3J8t3P"
      },
      "execution_count": null,
      "outputs": []
    },
    {
      "cell_type": "code",
      "source": [
        "#Ejemplo 2\n",
        "i = 2 # Inicializar a i en 2\n",
        "j = 25 # Inicializar a j en 25\n",
        "while i < j: # Mientras i sea menor a j\n",
        "  print(i,j, sep=\", \")# Mostrando los valores de i y j\n",
        "  i *= 2 # i = i*2 ; i se multiplicar por 2 en cada ciclo\n",
        "  j += 10 # j = j+10; j se incrementa de 10 en 10\n",
        "print(\"Fin\")\n",
        "print(i,j, sep=\", \")"
      ],
      "metadata": {
        "id": "JFgh2WnK0O-f"
      },
      "execution_count": null,
      "outputs": []
    },
    {
      "cell_type": "code",
      "source": [
        "#Ejemplo 3\n",
        "#Definir la funcion\n",
        "def calcularAreaTriangulo(base,altura):\n",
        "  area = (base*altura)/2\n",
        "  return area\n",
        "\n",
        "#Definir otra funcion\n",
        "def calcularAreaCuadrado(lad):\n",
        "  area = lad*lad\n",
        "  return area\n",
        "\n",
        "#Definir otra funcion\n",
        "def mostrarNumeros(num):\n",
        "  if num > 0:\n",
        "    print(\"El numero es positivo\")\n",
        "  elif num == 0:\n",
        "    print(\"El numero es cero\")\n",
        "  else:\n",
        "    print(\"El numero es negativo\")\n",
        "\n",
        "salir = True #Bandera\n",
        "\n",
        "while salir == True:\n",
        "   opcion = int(input(\"Ingrese una opcion: \\n 1. Area Triangulo \\n 2. Area Cuadrado \\n 3. Numeros \\n 4. Salir \\n\"))\n",
        "   if opcion == 1:\n",
        "     base = int(input(\"Ingrese la base: \"))\n",
        "     altura = int(input(\"Ingrese la altura\"))\n",
        "     resultado = calcularAreaTriangulo(base,altura)\n",
        "     print(\"Area Triangulo\",resultado)\n",
        "   elif opcion == 2:\n",
        "     lado = int(input(\"Ingrese el lado: \"))\n",
        "     resultado = calcularAreaCuadrado(lado)\n",
        "     print(\"Area Cuadrado\",resultado)\n",
        "   elif opcion == 3:\n",
        "     num = int(input(\"Ingrese un numero: \"))\n",
        "     mostrarNumeros(num)\n",
        "   elif opcion == 4:\n",
        "     print(\"Hasta luego :)\")\n",
        "     salir = False\n",
        "   else:\n",
        "     print(\"Opcion no es valida\")"
      ],
      "metadata": {
        "id": "PPBt1_bk7L6X"
      },
      "execution_count": null,
      "outputs": []
    },
    {
      "cell_type": "markdown",
      "source": [
        "**Ciclo hacer mientras**"
      ],
      "metadata": {
        "id": "B_xKxtFq9MzB"
      }
    },
    {
      "cell_type": "code",
      "source": [
        "#Ejemplo\n",
        "x = 0\n",
        "con = True #Bandera garantiza que entre al ciclo almenos un vez\n",
        "\n",
        "while con == True:\n",
        "  print(x)\n",
        "  x += 1\n",
        "  if x > 10:\n",
        "    con = False"
      ],
      "metadata": {
        "id": "O6NYrLSh9RXM"
      },
      "execution_count": null,
      "outputs": []
    },
    {
      "cell_type": "markdown",
      "source": [
        "**Ciclo For**"
      ],
      "metadata": {
        "id": "-kxeNuT-CtTm"
      }
    },
    {
      "cell_type": "code",
      "source": [
        "#For: Un bucle que se usa para iterar sobre secuencia\n",
        "#(una lista, una tupla, un diccionario o una cadena de caracteres).\n",
        "#Ejemplo 1\n",
        "frutas = [\"manzana\",\"banano\",\"pera\"]\n",
        "for x in frutas:#Para cada elemento(X) en la coleccion(frutas) realice las instrucciones en el bloque\n",
        "  print(x)"
      ],
      "metadata": {
        "id": "4eH7e23iCwtV"
      },
      "execution_count": null,
      "outputs": []
    },
    {
      "cell_type": "code",
      "source": [
        "#Ejemplo 2\n",
        "nombre = \"Pedro\"\n",
        "for x in nombre:\n",
        "  print(x)"
      ],
      "metadata": {
        "colab": {
          "base_uri": "https://localhost:8080/"
        },
        "id": "3g-xipHjHt31",
        "outputId": "c5b65359-8130-40c1-9379-63a6014174c6"
      },
      "execution_count": null,
      "outputs": [
        {
          "output_type": "stream",
          "name": "stdout",
          "text": [
            "Pedro\n"
          ]
        }
      ]
    },
    {
      "cell_type": "code",
      "source": [
        "#Ejemplo 3\n",
        "marcas = [\"bmw\",\"ford\",\"ferrari\",\"mazda\"]\n",
        "for x in marcas:\n",
        "  print(x)\n",
        "  if x == \"ferrari\":\n",
        "    print(x+\" rojo\")\n",
        "    break"
      ],
      "metadata": {
        "id": "itXSJmPWP1vm"
      },
      "execution_count": null,
      "outputs": []
    },
    {
      "cell_type": "code",
      "source": [
        "#Ejemplo 4\n",
        "for num in range(10):\n",
        "  print(num)\n"
      ],
      "metadata": {
        "id": "A_-RjyakSnhO"
      },
      "execution_count": null,
      "outputs": []
    },
    {
      "cell_type": "code",
      "source": [
        "#Ejemplo 5\n",
        "for x in range(2,6):\n",
        "  print(x)\n"
      ],
      "metadata": {
        "id": "2R956ZtDURRk"
      },
      "execution_count": null,
      "outputs": []
    },
    {
      "cell_type": "code",
      "source": [
        "#Ejemplo 6\n",
        "for x in range(2, 30, 2):\n",
        "  print(x)"
      ],
      "metadata": {
        "id": "08euLZ8mUmvH"
      },
      "execution_count": null,
      "outputs": []
    },
    {
      "cell_type": "markdown",
      "source": [
        "**Estructura de datos:** Es una forma de organizar datos en una computadora, para que pueda ser utlizado de menera eficiente.\n",
        "\n",
        "**Tupla**"
      ],
      "metadata": {
        "id": "q61sOkEtkJRk"
      }
    },
    {
      "cell_type": "code",
      "source": [
        "#Define una tupla\n",
        "tupla = () #Tupla vacia\n",
        "print(tupla)\n",
        "mensaje = (\"Esto es un texto\",) #Una tupla con un elemento que es una cadena\n",
        "print(mensaje)\n",
        "tupla1 = (\"Una cadena\",123)#Una tupla con dos elementos\n",
        "print(tupla1)\n",
        "tupla2 = (\"apple\",2018,\"samsung\",4.9,\"t\",True) #Una tupla de seis elementos\n",
        "print(tupla2)"
      ],
      "metadata": {
        "id": "8l3POn9ekMS7"
      },
      "execution_count": null,
      "outputs": []
    },
    {
      "cell_type": "markdown",
      "source": [
        "**Variables**"
      ],
      "metadata": {
        "id": "yL_bHMc8pa2r"
      }
    },
    {
      "cell_type": "code",
      "source": [
        "tupla3 = (2,4.7,\"nota\") #Forma uno usando paréntesis\n",
        "tupla4 = 2,4.7,\"nota\" #Forma dos solo secuencia con separacion de comas\n",
        "print(tupla3)\n",
        "print(tupla4)"
      ],
      "metadata": {
        "id": "RWPKOjlbpeQq"
      },
      "execution_count": null,
      "outputs": []
    },
    {
      "cell_type": "markdown",
      "source": [
        "**Tuplas anidadas**"
      ],
      "metadata": {
        "id": "SlH4W8t3rFsH"
      }
    },
    {
      "cell_type": "code",
      "source": [
        "tupla5 = (0,1,2,3)\n",
        "tupla6 = (\"A\",\"B\",\"C\")\n",
        "tupla7 = (tupla5,tupla6)\n",
        "print(tupla7)\n",
        "print(tupla7[0])#Muestra solo la tupla5\n",
        "print(tupla7[1][1])#Muestra de la tupla6 el elemento en el indice 1\n",
        "print(tupla5[0])#Muestra el elemento en el indice 0"
      ],
      "metadata": {
        "id": "Su7SDA19rKfg"
      },
      "execution_count": null,
      "outputs": []
    },
    {
      "cell_type": "markdown",
      "source": [
        "**Operaciones con cadenas**"
      ],
      "metadata": {
        "id": "rpxsL4-SzUeb"
      }
    },
    {
      "cell_type": "code",
      "source": [
        "#Concatenar\n",
        "tupla8 = (\"A\",\"B\",\"C\",\"E\")\n",
        "tupla9 = (1,2,3,4,5)\n",
        "tupla10 = tupla8 + tupla9\n",
        "#print(tupla10)\n",
        "#print(tupla10[5])\n",
        "\n",
        "#Repetir\n",
        "tupla11 = (1,2,3,4,5)\n",
        "tupla12 = tupla11 * 3\n",
        "#print(tupla12)\n",
        "\n",
        "#Comparar\n",
        "tupla13 = (\"Rojas\",)\n",
        "tupla14 = (123,)\n",
        "tupla15 = (\"Rosa\",)\n",
        "tupla16 = (\"rosas\",)\n",
        "print((tupla13,tupla14) < (tupla15,tupla14) )\n",
        "print((tupla15,tupla14) == (tupla16,tupla14))\n"
      ],
      "metadata": {
        "id": "dw99aIh8zbez"
      },
      "execution_count": null,
      "outputs": []
    },
    {
      "cell_type": "code",
      "source": [
        "#Buscando en un tupla\n",
        "tupla17 = (\"cien\",\"años\",\"de\",\"soledad\")\n",
        "if \"años\" in tupla17:\n",
        "  print(\"Si esta en la tupla\")\n",
        "else:\n",
        "  print(\"No esta en la tupla\")\n"
      ],
      "metadata": {
        "id": "vB5AktTErWja"
      },
      "execution_count": null,
      "outputs": []
    },
    {
      "cell_type": "code",
      "source": [
        "#Iterando en un tupla\n",
        "tupla18 = (\"hola\",\"amigos\",\"mios\")\n",
        "for palabra in tupla18: #para cada palabra de la tupla18\n",
        "  print(palabra, end=\", \")#parametro end evita el salto de linea"
      ],
      "metadata": {
        "id": "SQbB5f-gsyMv"
      },
      "execution_count": null,
      "outputs": []
    },
    {
      "cell_type": "code",
      "source": [
        "#Funciones\n",
        "#Retornar mas de un valor\n",
        "#Definir la funcion\n",
        "def minmax(a,b):\n",
        "  if a < b:\n",
        "    return a,b\n",
        "  else:\n",
        "    return b,a\n",
        "\n",
        "x, y = minmax(5,13) \n",
        "print(\"min =\",x,\",\",\"max =\",y)\n",
        "x, y = minmax(12,-4)\n",
        "print(\"min =\",x,\",\",\"max =\",y)"
      ],
      "metadata": {
        "id": "tqKx3tENvZjs"
      },
      "execution_count": null,
      "outputs": []
    },
    {
      "cell_type": "markdown",
      "source": [
        "**Metodos**"
      ],
      "metadata": {
        "id": "yCN0ObjRyCX_"
      }
    },
    {
      "cell_type": "code",
      "source": [
        "#Len determina la dimension (longitud) de una tupla \n",
        "tupla19 = (1,2,3,4)\n",
        "tupla20 = (\"Jazmin\",\"Gustavo\",\"Hugo\",\"Luis\",\"Andres\")\n",
        "print(len(tupla19))\n",
        "print(len(tupla20))"
      ],
      "metadata": {
        "id": "Iu4aIMqsyBZB"
      },
      "execution_count": null,
      "outputs": []
    },
    {
      "cell_type": "code",
      "source": [
        "#Slice obtener un porcion (subtupla) de un tupla\n",
        "marcasCelulares = (\"apple\",\"xiaomi\",\"samsung\",\"motorola\")\n",
        "print(marcasCelulares[0:2])#valor inicial y valor final de la subtupla\n",
        "print(marcasCelulares[1:3])#valor inicial y valor final de la subtupla\n",
        "print(marcasCelulares[:-3])#valor inicial y valor final de la subtupla"
      ],
      "metadata": {
        "id": "bsLOd8efz2Pk"
      },
      "execution_count": null,
      "outputs": []
    },
    {
      "cell_type": "code",
      "source": [
        "#Count obtiene las veces que un elemento se encuentra en un tupla\n",
        "tupla21 = (4,1,2,7,9,3,4,5,9,1,4)\n",
        "print(tupla21.count(4))"
      ],
      "metadata": {
        "id": "Aiu6mfgK8BGL"
      },
      "execution_count": null,
      "outputs": []
    },
    {
      "cell_type": "code",
      "source": [
        "#Buscando con el index\n",
        "tupla22 = (4,2,7,1,\"9\",3,5,1)\n",
        "print(tupla22.index(\"9\"))"
      ],
      "metadata": {
        "id": "y6TmOwn99yUl"
      },
      "execution_count": null,
      "outputs": []
    },
    {
      "cell_type": "markdown",
      "source": [
        "**Listas**"
      ],
      "metadata": {
        "id": "MuBvXxviCh8P"
      }
    },
    {
      "cell_type": "code",
      "source": [
        "#Definicion de una lista\n",
        "lista = []#Lista vacia\n",
        "lista1 = [\"Este es un texto\"]\n",
        "lista2 = [\"Una cadena\",123]\n",
        "lista3 = [1,2,4.5,\"Hola\",\"p\"]\n",
        "print(lista)\n",
        "print(lista1)\n",
        "print(lista2)\n",
        "print(lista3)"
      ],
      "metadata": {
        "id": "DcBbPJX4Cokp"
      },
      "execution_count": null,
      "outputs": []
    },
    {
      "cell_type": "markdown",
      "source": [
        "**Lista anidadas**"
      ],
      "metadata": {
        "id": "vkHtyfbt2FMs"
      }
    },
    {
      "cell_type": "code",
      "source": [
        "lista4 = [0,1,2,3]\n",
        "lista5 = [\"A\",\"B\",\"D\"]\n",
        "lista6 = [lista4,lista5]#Nueva lista\n",
        "print(lista6)\n",
        "print(lista6[1])\n",
        "print(lista6[1][1])"
      ],
      "metadata": {
        "id": "mjN9UlyT2Psq"
      },
      "execution_count": null,
      "outputs": []
    },
    {
      "cell_type": "markdown",
      "source": [
        "**Variables**"
      ],
      "metadata": {
        "id": "9Ln_ZeJa4BzJ"
      }
    },
    {
      "cell_type": "code",
      "source": [
        "x = []#Se le asigna la lista vacia a la variable x\n",
        "lista7 = [1,2,3,4.5,\"Hola Mundo\",\"a\"]#Se le asigna la lista con seis elementos a la variable lista7\n",
        "a = [1,2,3] #Se le asigna la lista con tres elementos del mismo tipo a la variable a\n",
        "print(x)\n",
        "print(lista7)\n",
        "print(a)"
      ],
      "metadata": {
        "id": "NMOWUQg64Gue"
      },
      "execution_count": null,
      "outputs": []
    },
    {
      "cell_type": "markdown",
      "source": [
        "**Operadores**"
      ],
      "metadata": {
        "id": "j6KFKHck6EWV"
      }
    },
    {
      "cell_type": "code",
      "source": [
        "#Concatenacion\n",
        "lista8 = [\"A\",\"B\",\"D\",\"E\"]\n",
        "lista9 = [1,2,3,4,5,6]\n",
        "lista10 = lista8 + lista9 \n",
        "print(lista10)\n",
        "print(lista10[6])"
      ],
      "metadata": {
        "id": "0t-rYt6e6HYc"
      },
      "execution_count": null,
      "outputs": []
    },
    {
      "cell_type": "code",
      "source": [
        "#Agregar un elemento al final (extend) de la lista\n",
        "nombres1 = [\"Jazmin\",\"Gustavo\",\"Fabio\",\"Irma\"]\n",
        "nombres2 = [\"James\",\"Luis\",\"Felipe\",\"Juan\"]\n",
        "nombres1.extend(nombres2)\n",
        "\n",
        "print(nombres1)"
      ],
      "metadata": {
        "id": "9zKUGJu-9b-n"
      },
      "execution_count": null,
      "outputs": []
    },
    {
      "cell_type": "code",
      "source": [
        "#Repetir\n",
        "lista11 = [\"a\",3,\"tu\",False]\n",
        "lista12 = lista11*4\n",
        "print(lista12)"
      ],
      "metadata": {
        "colab": {
          "base_uri": "https://localhost:8080/"
        },
        "id": "OJGkhnueDwnr",
        "outputId": "14b64f36-60dc-41e2-8c56-fafbc80ded22"
      },
      "execution_count": null,
      "outputs": [
        {
          "output_type": "stream",
          "name": "stdout",
          "text": [
            "['a', 3, 'tu', False, 'a', 3, 'tu', False, 'a', 3, 'tu', False, 'a', 3, 'tu', False]\n"
          ]
        }
      ]
    },
    {
      "cell_type": "code",
      "source": [
        "#Comparacion\n",
        "#Usando los operadores relacionales (==,>,<,>=,<=,!=)\n",
        "lista13 = [\"Rojas\",123]\n",
        "lista14 = [\"Rosas\",123]\n",
        "lista15 = [\"rosa\",123]\n",
        "lista16 = [\"Rosas\",23]\n",
        "print(lista13 < lista14)\n",
        "print(lista15 > lista16)"
      ],
      "metadata": {
        "colab": {
          "base_uri": "https://localhost:8080/"
        },
        "id": "cFHviiOoEilf",
        "outputId": "5e367dac-760e-4248-9cbb-fde79e57351f"
      },
      "execution_count": null,
      "outputs": [
        {
          "output_type": "stream",
          "name": "stdout",
          "text": [
            "True\n",
            "True\n"
          ]
        }
      ]
    },
    {
      "cell_type": "code",
      "source": [
        "#Subindice\n",
        "avengers = [\"Ironman\", \"Thor\",\"Ant-man\",\"Hulk\"]\n",
        "print(avengers[2])\n",
        "print(avengers[3])\n",
        "print(avengers[-2])"
      ],
      "metadata": {
        "colab": {
          "base_uri": "https://localhost:8080/"
        },
        "id": "0yuUTpXxIPSN",
        "outputId": "48414a3b-2e5c-4124-da4d-a26feb492a4e"
      },
      "execution_count": null,
      "outputs": [
        {
          "output_type": "stream",
          "name": "stdout",
          "text": [
            "Ant-man\n",
            "Hulk\n",
            "Ant-man\n"
          ]
        }
      ]
    },
    {
      "cell_type": "code",
      "source": [
        "lista17 = [\"cien\",\"años\",\"de\",\"soledad\"]\n",
        "if \"de\" in lista17:\n",
        "  print(\"Si esta en la lista\")\n",
        "else:\n",
        "  print(\"No esta en la lista\")"
      ],
      "metadata": {
        "id": "tB-iI--EKC9Z"
      },
      "execution_count": null,
      "outputs": []
    },
    {
      "cell_type": "code",
      "source": [
        "#Es posible determinar si un elemento NO se encuentra en la lista\n",
        "lista18 = [\"cien\",\"años\",\"de\",\"soledad\"]\n",
        "if \"sien\" not in lista18:\n",
        "  print(\"No esta en la lista\")\n",
        "else:\n",
        "  print(\"Esta en la lista\")"
      ],
      "metadata": {
        "colab": {
          "base_uri": "https://localhost:8080/"
        },
        "id": "rNmtboSpLinW",
        "outputId": "dfbb48c3-b8ee-4e7b-ea8b-203417620418"
      },
      "execution_count": null,
      "outputs": [
        {
          "output_type": "stream",
          "name": "stdout",
          "text": [
            "No esta en la lista\n"
          ]
        }
      ]
    },
    {
      "cell_type": "code",
      "source": [
        "#Iterando un lista\n",
        "lista19 = [\"hola\",\"amigos\",\"como\",\"estan\"]\n",
        "for x in lista19:\n",
        "  print(x, end=\" \")#Parametro end evita el salto de linea"
      ],
      "metadata": {
        "colab": {
          "base_uri": "https://localhost:8080/"
        },
        "id": "tMbMvh8GMidm",
        "outputId": "ad1d40f9-d474-4080-d86c-64fc1060211b"
      },
      "execution_count": null,
      "outputs": [
        {
          "output_type": "stream",
          "name": "stdout",
          "text": [
            "hola amigos como estan "
          ]
        }
      ]
    }
  ]
}